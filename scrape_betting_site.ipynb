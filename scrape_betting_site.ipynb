{
 "cells": [
  {
   "cell_type": "code",
   "execution_count": 3,
   "id": "alert-heading",
   "metadata": {},
   "outputs": [],
   "source": [
    "from selenium import webdriver\n",
    "import os"
   ]
  },
  {
   "cell_type": "code",
   "execution_count": 4,
   "id": "framed-winner",
   "metadata": {},
   "outputs": [
    {
     "data": {
      "text/plain": [
       "'C:\\\\Users\\\\Radloff\\\\Documents\\\\Python Scripts\\\\bet_arbitrage_project'"
      ]
     },
     "execution_count": 4,
     "metadata": {},
     "output_type": "execute_result"
    }
   ],
   "source": [
    "os.getcwd()"
   ]
  },
  {
   "cell_type": "code",
   "execution_count": 39,
   "id": "adult-vessel",
   "metadata": {},
   "outputs": [],
   "source": [
    "web = 'https://sports.tipico.de/de'\n",
    "path = 'chromedriver'"
   ]
  },
  {
   "cell_type": "code",
   "execution_count": 40,
   "id": "simplified-borough",
   "metadata": {},
   "outputs": [],
   "source": [
    "driver = webdriver.Chrome(path)\n",
    "driver.get(web)"
   ]
  },
  {
   "cell_type": "code",
   "execution_count": 41,
   "id": "usual-statement",
   "metadata": {},
   "outputs": [],
   "source": [
    "accept_cookies = driver.find_element_by_xpath('//*[@id=\"_evidon-accept-button\"]')\n",
    "\n",
    "accept_cookies.click()"
   ]
  },
  {
   "cell_type": "code",
   "execution_count": 42,
   "id": "adolescent-procurement",
   "metadata": {},
   "outputs": [],
   "source": [
    "tennis = driver.find_element_by_xpath('//*[@id=\"5101\"]/div/span/a')\n",
    "atp = driver.find_element_by_xpath('//*[@id=\"3201\"]')\n",
    "\n",
    "tennis.click()\n",
    "atp.click()"
   ]
  },
  {
   "cell_type": "code",
   "execution_count": 45,
   "id": "funny-precipitation",
   "metadata": {},
   "outputs": [],
   "source": [
    "sport_container = driver.find_elements_by_class_name('Sport-styles-sport-container')"
   ]
  },
  {
   "cell_type": "code",
   "execution_count": 50,
   "id": "prescription-mainland",
   "metadata": {},
   "outputs": [
    {
     "data": {
      "text/plain": [
       "[<selenium.webdriver.remote.webelement.WebElement (session=\"0bc48dfa0eb66a193f093b74899085c9\", element=\"887ac3f2-25d7-4505-af66-bf01a4c48649\")>]"
      ]
     },
     "execution_count": 50,
     "metadata": {},
     "output_type": "execute_result"
    }
   ],
   "source": [
    "sport_container"
   ]
  },
  {
   "cell_type": "code",
   "execution_count": 48,
   "id": "actual-muscle",
   "metadata": {},
   "outputs": [],
   "source": [
    "event_rows = driver.find_elements_by_class_name('EventRow-styles-event-row')"
   ]
  },
  {
   "cell_type": "code",
   "execution_count": 49,
   "id": "artistic-brighton",
   "metadata": {},
   "outputs": [
    {
     "data": {
      "text/plain": [
       "[<selenium.webdriver.remote.webelement.WebElement (session=\"0bc48dfa0eb66a193f093b74899085c9\", element=\"de34151d-2e6d-4145-90e3-ad0ebb44d1a4\")>,\n",
       " <selenium.webdriver.remote.webelement.WebElement (session=\"0bc48dfa0eb66a193f093b74899085c9\", element=\"f24a7bb8-35d9-4b24-bf57-df2c267ca044\")>,\n",
       " <selenium.webdriver.remote.webelement.WebElement (session=\"0bc48dfa0eb66a193f093b74899085c9\", element=\"0b8196d0-6168-4219-9465-da7cc5230e23\")>,\n",
       " <selenium.webdriver.remote.webelement.WebElement (session=\"0bc48dfa0eb66a193f093b74899085c9\", element=\"a2a1aff0-796c-47b1-acfa-027f23794b76\")>,\n",
       " <selenium.webdriver.remote.webelement.WebElement (session=\"0bc48dfa0eb66a193f093b74899085c9\", element=\"899c8640-0446-40f0-b0a0-f04395ea3a48\")>,\n",
       " <selenium.webdriver.remote.webelement.WebElement (session=\"0bc48dfa0eb66a193f093b74899085c9\", element=\"439181c1-be3a-4832-a6a5-0c2ee3dd6b4d\")>,\n",
       " <selenium.webdriver.remote.webelement.WebElement (session=\"0bc48dfa0eb66a193f093b74899085c9\", element=\"96866f34-1cb0-4c79-9823-b4b105495697\")>,\n",
       " <selenium.webdriver.remote.webelement.WebElement (session=\"0bc48dfa0eb66a193f093b74899085c9\", element=\"954d1fa0-7489-48c3-8643-b41825440d20\")>,\n",
       " <selenium.webdriver.remote.webelement.WebElement (session=\"0bc48dfa0eb66a193f093b74899085c9\", element=\"356b319b-a3a1-4e89-b42d-0ddb1a213709\")>,\n",
       " <selenium.webdriver.remote.webelement.WebElement (session=\"0bc48dfa0eb66a193f093b74899085c9\", element=\"484143b7-7ceb-4ec3-8b07-0f216568622d\")>,\n",
       " <selenium.webdriver.remote.webelement.WebElement (session=\"0bc48dfa0eb66a193f093b74899085c9\", element=\"279cb0cf-4fac-40f7-ba00-ad0c235115f5\")>,\n",
       " <selenium.webdriver.remote.webelement.WebElement (session=\"0bc48dfa0eb66a193f093b74899085c9\", element=\"74c379d1-0f83-4905-b94c-8388f7bf16ba\")>,\n",
       " <selenium.webdriver.remote.webelement.WebElement (session=\"0bc48dfa0eb66a193f093b74899085c9\", element=\"c4a484a3-778b-4f7a-b676-a49b6d378c13\")>,\n",
       " <selenium.webdriver.remote.webelement.WebElement (session=\"0bc48dfa0eb66a193f093b74899085c9\", element=\"505f736d-866a-4c59-b658-285705b5a9f7\")>,\n",
       " <selenium.webdriver.remote.webelement.WebElement (session=\"0bc48dfa0eb66a193f093b74899085c9\", element=\"71af8e43-6bff-41ac-95e7-82aa8f992b47\")>,\n",
       " <selenium.webdriver.remote.webelement.WebElement (session=\"0bc48dfa0eb66a193f093b74899085c9\", element=\"e2a5ee97-f2f8-4412-8099-0fff56f9c403\")>,\n",
       " <selenium.webdriver.remote.webelement.WebElement (session=\"0bc48dfa0eb66a193f093b74899085c9\", element=\"c40a5576-5972-44aa-a4a1-ba12698b0703\")>,\n",
       " <selenium.webdriver.remote.webelement.WebElement (session=\"0bc48dfa0eb66a193f093b74899085c9\", element=\"0542158e-5028-4c95-8f5a-d277c802696d\")>,\n",
       " <selenium.webdriver.remote.webelement.WebElement (session=\"0bc48dfa0eb66a193f093b74899085c9\", element=\"cf27af6d-63a1-49e9-ae75-0383c56610c6\")>,\n",
       " <selenium.webdriver.remote.webelement.WebElement (session=\"0bc48dfa0eb66a193f093b74899085c9\", element=\"0dc6a0be-d738-4266-a9a0-c617e51da42b\")>,\n",
       " <selenium.webdriver.remote.webelement.WebElement (session=\"0bc48dfa0eb66a193f093b74899085c9\", element=\"9bae034c-6920-400a-9bf2-eb01d880d23e\")>,\n",
       " <selenium.webdriver.remote.webelement.WebElement (session=\"0bc48dfa0eb66a193f093b74899085c9\", element=\"def59aba-1c52-4a71-b414-03a28df5a85a\")>,\n",
       " <selenium.webdriver.remote.webelement.WebElement (session=\"0bc48dfa0eb66a193f093b74899085c9\", element=\"979e3d9d-cf4a-4b40-86e8-31614e6ff491\")>,\n",
       " <selenium.webdriver.remote.webelement.WebElement (session=\"0bc48dfa0eb66a193f093b74899085c9\", element=\"b30d1e8f-974a-4e8d-873c-fe89e7a92ea8\")>,\n",
       " <selenium.webdriver.remote.webelement.WebElement (session=\"0bc48dfa0eb66a193f093b74899085c9\", element=\"d27e062e-eb45-400d-a71e-a3fd41059435\")>,\n",
       " <selenium.webdriver.remote.webelement.WebElement (session=\"0bc48dfa0eb66a193f093b74899085c9\", element=\"eff4111e-fd77-475e-9b6b-00362f533540\")>,\n",
       " <selenium.webdriver.remote.webelement.WebElement (session=\"0bc48dfa0eb66a193f093b74899085c9\", element=\"ab811553-d93e-4729-9763-a33a71e10c8f\")>,\n",
       " <selenium.webdriver.remote.webelement.WebElement (session=\"0bc48dfa0eb66a193f093b74899085c9\", element=\"a56b7fd7-a4d0-485b-bf08-8166d88c3d5e\")>,\n",
       " <selenium.webdriver.remote.webelement.WebElement (session=\"0bc48dfa0eb66a193f093b74899085c9\", element=\"32ac62a0-0c42-4984-85dc-60b59b743ae8\")>,\n",
       " <selenium.webdriver.remote.webelement.WebElement (session=\"0bc48dfa0eb66a193f093b74899085c9\", element=\"c6a1815e-7a0a-4073-94b9-b33f5776400d\")>,\n",
       " <selenium.webdriver.remote.webelement.WebElement (session=\"0bc48dfa0eb66a193f093b74899085c9\", element=\"09abb560-9379-4a01-a384-14c5e8557abb\")>,\n",
       " <selenium.webdriver.remote.webelement.WebElement (session=\"0bc48dfa0eb66a193f093b74899085c9\", element=\"8f1e2657-3d02-42b9-8862-f4220400efc8\")>,\n",
       " <selenium.webdriver.remote.webelement.WebElement (session=\"0bc48dfa0eb66a193f093b74899085c9\", element=\"bc738fc0-362d-4bd6-a487-5eec9f215b80\")>,\n",
       " <selenium.webdriver.remote.webelement.WebElement (session=\"0bc48dfa0eb66a193f093b74899085c9\", element=\"4931fd1c-d4d8-4776-b9f5-559ea879f122\")>,\n",
       " <selenium.webdriver.remote.webelement.WebElement (session=\"0bc48dfa0eb66a193f093b74899085c9\", element=\"8b5fa57c-3e79-4ad9-bdfb-ecb611438e06\")>,\n",
       " <selenium.webdriver.remote.webelement.WebElement (session=\"0bc48dfa0eb66a193f093b74899085c9\", element=\"523d62d4-f9e9-4183-b280-9d61d713ec98\")>,\n",
       " <selenium.webdriver.remote.webelement.WebElement (session=\"0bc48dfa0eb66a193f093b74899085c9\", element=\"68300533-2bba-4f6e-bb46-d135dadb03a5\")>,\n",
       " <selenium.webdriver.remote.webelement.WebElement (session=\"0bc48dfa0eb66a193f093b74899085c9\", element=\"fa1f4230-1b82-4de8-9283-cf2aa6ba912b\")>,\n",
       " <selenium.webdriver.remote.webelement.WebElement (session=\"0bc48dfa0eb66a193f093b74899085c9\", element=\"5ffff84c-fe4b-473c-ad7d-693b7e492be7\")>,\n",
       " <selenium.webdriver.remote.webelement.WebElement (session=\"0bc48dfa0eb66a193f093b74899085c9\", element=\"4c628a02-1f94-4127-9da8-93e36204a098\")>,\n",
       " <selenium.webdriver.remote.webelement.WebElement (session=\"0bc48dfa0eb66a193f093b74899085c9\", element=\"214c01d1-c7b4-4b86-8c0b-ffb8a83f4e4a\")>,\n",
       " <selenium.webdriver.remote.webelement.WebElement (session=\"0bc48dfa0eb66a193f093b74899085c9\", element=\"17086b8c-82db-45c6-9ff9-c17cf39a1b6a\")>,\n",
       " <selenium.webdriver.remote.webelement.WebElement (session=\"0bc48dfa0eb66a193f093b74899085c9\", element=\"e77a803c-88d5-4c2e-a4c1-a0d7c729a759\")>,\n",
       " <selenium.webdriver.remote.webelement.WebElement (session=\"0bc48dfa0eb66a193f093b74899085c9\", element=\"8ddcfa48-057c-4618-ae91-b48ec0352cdb\")>]"
      ]
     },
     "execution_count": 49,
     "metadata": {},
     "output_type": "execute_result"
    }
   ],
   "source": [
    "event_rows"
   ]
  },
  {
   "cell_type": "code",
   "execution_count": null,
   "id": "wireless-measure",
   "metadata": {},
   "outputs": [],
   "source": []
  }
 ],
 "metadata": {
  "kernelspec": {
   "display_name": "Python 3",
   "language": "python",
   "name": "python3"
  },
  "language_info": {
   "codemirror_mode": {
    "name": "ipython",
    "version": 3
   },
   "file_extension": ".py",
   "mimetype": "text/x-python",
   "name": "python",
   "nbconvert_exporter": "python",
   "pygments_lexer": "ipython3",
   "version": "3.9.1"
  }
 },
 "nbformat": 4,
 "nbformat_minor": 5
}
