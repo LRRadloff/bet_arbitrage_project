{
 "cells": [
  {
   "cell_type": "code",
   "execution_count": 39,
   "id": "alert-heading",
   "metadata": {},
   "outputs": [],
   "source": [
    "from selenium import webdriver"
   ]
  },
  {
   "cell_type": "code",
   "execution_count": 40,
   "id": "adult-vessel",
   "metadata": {},
   "outputs": [],
   "source": [
    "web = 'https://sports.bwin.de/de/sports'\n",
    "path = 'D:\\Downloads\\chromedriver_win32\\chromedriver'"
   ]
  },
  {
   "cell_type": "code",
   "execution_count": 51,
   "id": "simplified-borough",
   "metadata": {},
   "outputs": [],
   "source": [
    "driver = webdriver.Chrome(path)\n",
    "driver.get(web)"
   ]
  },
  {
   "cell_type": "code",
   "execution_count": 52,
   "id": "usual-statement",
   "metadata": {},
   "outputs": [],
   "source": [
    "close = driver.find_element_by_xpath('//*[@id=\"messages-with-overlay\"]/div/vn-content-message/div/span')\n",
    "accept_cookies = driver.find_element_by_xpath('//*[@id=\"cdk-overlay-0\"]/vn-cookie-consent/div/a')\n",
    "\n",
    "close.click()\n",
    "accept_cookies.click()"
   ]
  },
  {
   "cell_type": "code",
   "execution_count": 53,
   "id": "adolescent-procurement",
   "metadata": {},
   "outputs": [],
   "source": [
    "azsports = driver.find_element_by_xpath('//*[@id=\"sports-nav\"]/ms-main-items/div/vn-menu-item[9]/a/span')\n",
    "azsports.click()"
   ]
  },
  {
   "cell_type": "code",
   "execution_count": 54,
   "id": "handled-difficulty",
   "metadata": {},
   "outputs": [],
   "source": [
    "tennis = driver.find_element_by_xpath('/html/body/vn-app/vn-dynamic-layout-single-slot[1]/vn-responsive-header/header/vn-dynamic-layout-multi-slot[2]/ms-navigation/div[2]/ms-modal-window/div/div/div/ms-modal-dialog/ms-sport-list-modal/ms-sport-list-body/div/ms-sport-list[13]/div/ms-promo-item[1]/a/div[2]/span')\n",
    "tennis.click()"
   ]
  },
  {
   "cell_type": "code",
   "execution_count": 68,
   "id": "divided-sweet",
   "metadata": {
    "scrolled": true
   },
   "outputs": [],
   "source": [
    "single_row_events = driver.find_elements_by_class_name('grid-event-wrapper')"
   ]
  },
  {
   "cell_type": "code",
   "execution_count": 69,
   "id": "based-pension",
   "metadata": {},
   "outputs": [
    {
     "data": {
      "text/plain": [
       "['Irene Burillo Escorihuela\\nMarine PartaudFRA\\nLIVE\\n2. Satz\\n0\\nADV\\n0\\n40\\nP\\n3\\n2\\n1\\n1\\nS\\n1\\n1\\n0\\n0\\nSätze\\n1.04\\n8.50\\n2. Satz\\n1.13\\n2. Satz\\n5.25',\n",
       " 'Tristan Lamasine\\nSebastian Korda\\nLIVE\\n2. Satz\\n40\\nADV\\n40\\n30\\nP\\n2\\n2\\n1\\n0\\nS\\n0\\n0\\n1\\n1\\nSätze\\n4.33\\n1.18\\n2. Satz\\n1.65\\n2. Satz\\n2.10',\n",
       " 'Katie VolynetsUSA\\nKimmi HanceUSA\\nLIVE\\n1. Satz\\n1\\n0\\n2\\n1\\nP\\n6\\n5\\n6\\n6\\nS\\n0\\n0\\n0\\n0\\nSätze\\n1.55\\n2.30\\n2. Satz\\n1.42\\n2. Satz\\n2.65',\n",
       " 'Francoise Abanda\\nTara MooreGBR\\nLIVE\\n2. Satz\\n15\\n0\\n15\\n0\\nP\\n2\\n1\\n0\\n0\\nS\\n0\\n0\\n1\\n1\\nSätze\\n1.85\\n1.87\\n2. Satz\\n1.14\\n2. Satz\\n5.00',\n",
       " 'Akira SantillanAUS\\nPavel KotovRUS\\nMorgen / 08:15\\n3.10\\n1.30\\n1. Satz\\n2.90\\n1. Satz\\n1.36',\n",
       " 'Andrea ArnaboldiITA\\nTomas Martin EtcheverryARG\\nMorgen / 08:15\\n2.20\\n1.57\\n1. Satz\\n2.15\\n1. Satz\\n1.62',\n",
       " 'Blaz KavcicSLO\\nNicola KuhnESP\\nMorgen / 08:15\\n1.62\\n2.10\\n1. Satz\\n1.70\\n1. Satz\\n2.05',\n",
       " 'Chun-Hsin TsengTPE\\nMarcelo Tomas Barrios VeraCHI\\nMorgen / 08:15\\n2.10\\n1.62\\n1. Satz\\n2.05\\n1. Satz\\n1.70',\n",
       " 'Facundo MenaARG\\nAndrea PellegrinoITA\\nMorgen / 08:15\\n3.00\\n1.33\\n1. Satz\\n2.70\\n1. Satz\\n1.40',\n",
       " 'Felipe Meligeni Rodrigues Alves\\nDuje AjdukovicCRO\\nMorgen / 08:15\\n1.62\\n2.10\\n1. Satz\\n1.70\\n1. Satz\\n2.05',\n",
       " 'Gian Marco MoroniITA\\nYanki ErelTUR\\nMorgen / 08:15\\n1.07\\n6.50\\n1. Satz\\n1.14\\n1. Satz\\n5.00',\n",
       " 'Leonardo MayerARG\\nTallon GriekspoorNED\\nMorgen / 09:45\\n2.30\\n1.55\\n1. Satz\\n2.15\\n1. Satz\\n1.60',\n",
       " 'Jaume MunarESP\\nCarlos TabernerESP\\nMorgen / 12:15\\n1.75\\n1.95\\n1. Satz\\n1.75\\n1. Satz\\n1.91',\n",
       " 'Joao MenezesBRA\\nCem IlkelTUR\\nMorgen / 12:15\\n1.33\\n3.10\\n1. Satz\\n1.40\\n1. Satz\\n2.65',\n",
       " 'Zdenek KolarCZE\\nLorenzo GiustinoITA\\nMorgen / 12:15\\n2.90\\n1.36\\n1. Satz\\n2.50\\n1. Satz\\n1.45']"
      ]
     },
     "execution_count": 69,
     "metadata": {},
     "output_type": "execute_result"
    }
   ],
   "source": [
    "[event.text for event in single_row_events]"
   ]
  },
  {
   "cell_type": "code",
   "execution_count": 47,
   "id": "fancy-shadow",
   "metadata": {},
   "outputs": [
    {
     "data": {
      "text/plain": [
       "<selenium.webdriver.remote.webelement.WebElement (session=\"2be0c8aae8444db2c44f300589a40b2e\", element=\"add0957b-b2e4-48c4-bfed-cb483f21a023\")>"
      ]
     },
     "execution_count": 47,
     "metadata": {},
     "output_type": "execute_result"
    }
   ],
   "source": [
    "grandparent"
   ]
  },
  {
   "cell_type": "code",
   "execution_count": null,
   "id": "apparent-sharp",
   "metadata": {},
   "outputs": [],
   "source": []
  }
 ],
 "metadata": {
  "kernelspec": {
   "display_name": "Python 3",
   "language": "python",
   "name": "python3"
  },
  "language_info": {
   "codemirror_mode": {
    "name": "ipython",
    "version": 3
   },
   "file_extension": ".py",
   "mimetype": "text/x-python",
   "name": "python",
   "nbconvert_exporter": "python",
   "pygments_lexer": "ipython3",
   "version": "3.9.1"
  }
 },
 "nbformat": 4,
 "nbformat_minor": 5
}
